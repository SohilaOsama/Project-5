{
 "cells": [
  {
   "cell_type": "code",
   "execution_count": 1,
   "id": "246af1a4",
   "metadata": {},
   "outputs": [
    {
     "data": {
      "text/html": [
       "<div>\n",
       "<style scoped>\n",
       "    .dataframe tbody tr th:only-of-type {\n",
       "        vertical-align: middle;\n",
       "    }\n",
       "\n",
       "    .dataframe tbody tr th {\n",
       "        vertical-align: top;\n",
       "    }\n",
       "\n",
       "    .dataframe thead th {\n",
       "        text-align: right;\n",
       "    }\n",
       "</style>\n",
       "<table border=\"1\" class=\"dataframe\">\n",
       "  <thead>\n",
       "    <tr style=\"text-align: right;\">\n",
       "      <th></th>\n",
       "      <th>Order Date</th>\n",
       "      <th>Order ID</th>\n",
       "      <th>Product</th>\n",
       "      <th>Product_ean</th>\n",
       "      <th>Category</th>\n",
       "      <th>Purchase Address</th>\n",
       "      <th>Quantity Ordered</th>\n",
       "      <th>Price Each</th>\n",
       "      <th>Cost price</th>\n",
       "      <th>turnover</th>\n",
       "      <th>margin</th>\n",
       "    </tr>\n",
       "  </thead>\n",
       "  <tbody>\n",
       "    <tr>\n",
       "      <th>0</th>\n",
       "      <td>1/22/2019 21:25</td>\n",
       "      <td>141234</td>\n",
       "      <td>iPhone</td>\n",
       "      <td>5.640000e+12</td>\n",
       "      <td>Phones</td>\n",
       "      <td>944 Walnut St, Boston, MA 02215</td>\n",
       "      <td>1</td>\n",
       "      <td>700.00</td>\n",
       "      <td>231.0000</td>\n",
       "      <td>700.00</td>\n",
       "      <td>469.0000</td>\n",
       "    </tr>\n",
       "    <tr>\n",
       "      <th>1</th>\n",
       "      <td>1/28/2019 14:15</td>\n",
       "      <td>141235</td>\n",
       "      <td>Lightning Charging Cable</td>\n",
       "      <td>5.560000e+12</td>\n",
       "      <td>Accessories</td>\n",
       "      <td>185 Maple St, Portland, OR 97035</td>\n",
       "      <td>1</td>\n",
       "      <td>14.95</td>\n",
       "      <td>7.4750</td>\n",
       "      <td>14.95</td>\n",
       "      <td>7.4750</td>\n",
       "    </tr>\n",
       "    <tr>\n",
       "      <th>2</th>\n",
       "      <td>1/17/2019 13:33</td>\n",
       "      <td>141236</td>\n",
       "      <td>Wired Headphones</td>\n",
       "      <td>2.110000e+12</td>\n",
       "      <td>Accessories</td>\n",
       "      <td>538 Adams St, San Francisco, CA 94016</td>\n",
       "      <td>2</td>\n",
       "      <td>11.99</td>\n",
       "      <td>5.9950</td>\n",
       "      <td>23.98</td>\n",
       "      <td>11.9900</td>\n",
       "    </tr>\n",
       "    <tr>\n",
       "      <th>3</th>\n",
       "      <td>1/5/2019 20:33</td>\n",
       "      <td>141237</td>\n",
       "      <td>27in FHD Monitor</td>\n",
       "      <td>3.070000e+12</td>\n",
       "      <td>NaN</td>\n",
       "      <td>738 10th St, Los Angeles, CA 90001</td>\n",
       "      <td>1</td>\n",
       "      <td>149.99</td>\n",
       "      <td>97.4935</td>\n",
       "      <td>149.99</td>\n",
       "      <td>52.4965</td>\n",
       "    </tr>\n",
       "    <tr>\n",
       "      <th>4</th>\n",
       "      <td>1/25/2019 11:59</td>\n",
       "      <td>141238</td>\n",
       "      <td>Wired Headphones</td>\n",
       "      <td>9.690000e+12</td>\n",
       "      <td>Accessories</td>\n",
       "      <td>387 10th St, Austin, TX 73301</td>\n",
       "      <td>1</td>\n",
       "      <td>11.99</td>\n",
       "      <td>5.9950</td>\n",
       "      <td>11.99</td>\n",
       "      <td>5.9950</td>\n",
       "    </tr>\n",
       "  </tbody>\n",
       "</table>\n",
       "</div>"
      ],
      "text/plain": [
       "        Order Date  Order ID                   Product   Product_ean  \\\n",
       "0  1/22/2019 21:25    141234                    iPhone  5.640000e+12   \n",
       "1  1/28/2019 14:15    141235  Lightning Charging Cable  5.560000e+12   \n",
       "2  1/17/2019 13:33    141236          Wired Headphones  2.110000e+12   \n",
       "3   1/5/2019 20:33    141237          27in FHD Monitor  3.070000e+12   \n",
       "4  1/25/2019 11:59    141238          Wired Headphones  9.690000e+12   \n",
       "\n",
       "      Category                       Purchase Address  Quantity Ordered  \\\n",
       "0       Phones        944 Walnut St, Boston, MA 02215                 1   \n",
       "1  Accessories       185 Maple St, Portland, OR 97035                 1   \n",
       "2  Accessories  538 Adams St, San Francisco, CA 94016                 2   \n",
       "3          NaN     738 10th St, Los Angeles, CA 90001                 1   \n",
       "4  Accessories          387 10th St, Austin, TX 73301                 1   \n",
       "\n",
       "   Price Each  Cost price  turnover    margin  \n",
       "0      700.00    231.0000    700.00  469.0000  \n",
       "1       14.95      7.4750     14.95    7.4750  \n",
       "2       11.99      5.9950     23.98   11.9900  \n",
       "3      149.99     97.4935    149.99   52.4965  \n",
       "4       11.99      5.9950     11.99    5.9950  "
      ]
     },
     "execution_count": 1,
     "metadata": {},
     "output_type": "execute_result"
    }
   ],
   "source": [
    "import pandas as pd\n",
    "import matplotlib.pyplot as plt\n",
    "import seaborn as sns\n",
    "import re\n",
    "import missingno as msno\n",
    "# Step 1: Data Understanding and Fast View\n",
    "# Load the sales data from the CSV file\n",
    "sales_data = pd.read_csv('sales_data.csv')\n",
    "\n",
    "# Display the first few rows of the dataset\n",
    "sales_data.head()"
   ]
  },
  {
   "cell_type": "code",
   "execution_count": 2,
   "id": "dd527ab4",
   "metadata": {},
   "outputs": [
    {
     "name": "stdout",
     "output_type": "stream",
     "text": [
      "Requirement already satisfied: missingno in c:\\users\\shiko\\anaconda3\\lib\\site-packages (0.5.2)\n",
      "Requirement already satisfied: numpy in c:\\users\\shiko\\anaconda3\\lib\\site-packages (from missingno) (1.24.3)\n",
      "Requirement already satisfied: matplotlib in c:\\users\\shiko\\anaconda3\\lib\\site-packages (from missingno) (3.7.1)\n",
      "Requirement already satisfied: scipy in c:\\users\\shiko\\anaconda3\\lib\\site-packages (from missingno) (1.10.1)\n",
      "Requirement already satisfied: seaborn in c:\\users\\shiko\\anaconda3\\lib\\site-packages (from missingno) (0.12.2)\n",
      "Requirement already satisfied: contourpy>=1.0.1 in c:\\users\\shiko\\anaconda3\\lib\\site-packages (from matplotlib->missingno) (1.0.5)\n",
      "Requirement already satisfied: cycler>=0.10 in c:\\users\\shiko\\anaconda3\\lib\\site-packages (from matplotlib->missingno) (0.11.0)\n",
      "Requirement already satisfied: fonttools>=4.22.0 in c:\\users\\shiko\\anaconda3\\lib\\site-packages (from matplotlib->missingno) (4.25.0)\n",
      "Requirement already satisfied: kiwisolver>=1.0.1 in c:\\users\\shiko\\anaconda3\\lib\\site-packages (from matplotlib->missingno) (1.4.4)\n",
      "Requirement already satisfied: packaging>=20.0 in c:\\users\\shiko\\anaconda3\\lib\\site-packages (from matplotlib->missingno) (23.0)\n",
      "Requirement already satisfied: pillow>=6.2.0 in c:\\users\\shiko\\anaconda3\\lib\\site-packages (from matplotlib->missingno) (9.4.0)\n",
      "Requirement already satisfied: pyparsing>=2.3.1 in c:\\users\\shiko\\anaconda3\\lib\\site-packages (from matplotlib->missingno) (3.0.9)\n",
      "Requirement already satisfied: python-dateutil>=2.7 in c:\\users\\shiko\\anaconda3\\lib\\site-packages (from matplotlib->missingno) (2.8.2)\n",
      "Requirement already satisfied: pandas>=0.25 in c:\\users\\shiko\\anaconda3\\lib\\site-packages (from seaborn->missingno) (1.5.3)\n",
      "Requirement already satisfied: pytz>=2020.1 in c:\\users\\shiko\\anaconda3\\lib\\site-packages (from pandas>=0.25->seaborn->missingno) (2022.7)\n",
      "Requirement already satisfied: six>=1.5 in c:\\users\\shiko\\anaconda3\\lib\\site-packages (from python-dateutil>=2.7->matplotlib->missingno) (1.16.0)\n"
     ]
    }
   ],
   "source": [
    "!pip install missingno "
   ]
  },
  {
   "cell_type": "code",
   "execution_count": 3,
   "id": "c3f54991",
   "metadata": {},
   "outputs": [
    {
     "data": {
      "image/png": "[encoded data removed]",
      "text/plain": [
       "<Figure size 2500x1000 with 2 Axes>"
      ]
     },
     "metadata": {},
     "output_type": "display_data"
    }
   ],
   "source": [
    "# Step 2: Data Preprocessing\n",
    "# Check for null values using Missingno library\n",
    "msno.matrix(sales_data)\n",
    "plt.show()\n",
    "\n"
   ]
  },
  {
   "cell_type": "code",
   "execution_count": 4,
   "id": "00001c0a",
   "metadata": {},
   "outputs": [],
   "source": [
    "# Handle null values\n",
    "sales_data['Product'].fillna(value='Not available', inplace=True)\n",
    "sales_data['Order Date'].fillna(value='Not available', inplace=True)\n",
    "sales_data['Category'].fillna(value='Not available', inplace=True)\n",
    "sales_data['Price Each'].fillna(value=0, inplace=True)"
   ]
  },
  {
   "cell_type": "code",
   "execution_count": 5,
   "id": "7d6fd4ca",
   "metadata": {},
   "outputs": [
    {
     "data": {
      "text/plain": [
       "Order Date          0\n",
       "Order ID            0\n",
       "Product             0\n",
       "Product_ean         0\n",
       "Category            0\n",
       "Purchase Address    0\n",
       "Quantity Ordered    0\n",
       "Price Each          0\n",
       "Cost price          0\n",
       "turnover            0\n",
       "margin              0\n",
       "dtype: int64"
      ]
     },
     "execution_count": 5,
     "metadata": {},
     "output_type": "execute_result"
    }
   ],
   "source": [
    "sales_data.isnull().sum()"
   ]
  },
  {
   "cell_type": "code",
   "execution_count": 6,
   "id": "d0c116e2",
   "metadata": {},
   "outputs": [],
   "source": [
    "# Remove duplicate rows\n",
    "sales_data.drop_duplicates(inplace=True)\n"
   ]
  },
  {
   "cell_type": "code",
   "execution_count": 7,
   "id": "690d8cb1",
   "metadata": {},
   "outputs": [
    {
     "data": {
      "text/plain": [
       "0"
      ]
     },
     "execution_count": 7,
     "metadata": {},
     "output_type": "execute_result"
    }
   ],
   "source": [
    "# Check for duplicated records\n",
    "duplicated_records = sales_data.duplicated().sum()\n",
    "duplicated_records"
   ]
  },
  {
   "cell_type": "code",
   "execution_count": 8,
   "id": "f8d8648b",
   "metadata": {},
   "outputs": [],
   "source": [
    "# Convert data types if necessary\n",
    "sales_data['Order Date'] = pd.to_datetime(sales_data['Order Date'])"
   ]
  },
  {
   "cell_type": "code",
   "execution_count": 9,
   "id": "5b7c9405",
   "metadata": {},
   "outputs": [
    {
     "name": "stdout",
     "output_type": "stream",
     "text": [
      "            Order ID   Product_ean  Quantity Ordered     Price Each  \\\n",
      "count  185949.000000  1.859490e+05     185949.000000  185949.000000   \n",
      "mean   230417.582299  5.509192e+12          1.124384     183.806998   \n",
      "std     51512.875322  2.598407e+12          0.442794     332.560027   \n",
      "min    141234.000000  1.000000e+12          1.000000       0.000000   \n",
      "25%    185831.000000  3.250000e+12          1.000000      11.950000   \n",
      "50%    230368.000000  5.510000e+12          1.000000      14.950000   \n",
      "75%    275036.000000  7.770000e+12          1.000000     150.000000   \n",
      "max    319670.000000  1.000000e+13          9.000000    1700.000000   \n",
      "\n",
      "          Cost price       turnover         margin  \n",
      "count  185949.000000  185949.000000  185949.000000  \n",
      "mean       69.668947     185.491894     115.290031  \n",
      "std       109.424372     332.920400     225.227642  \n",
      "min         1.495000       2.990000       1.495000  \n",
      "25%         5.975000      11.950000       5.975000  \n",
      "50%         7.475000      14.950000       7.475000  \n",
      "75%        97.500000     150.000000      52.500000  \n",
      "max       561.000000    3400.000000    2278.000000  \n"
     ]
    }
   ],
   "source": [
    "# Step 3: Exploratory Data Analysis (EDA)\n",
    "# Calculate summary statistics\n",
    "summary_stats = sales_data.describe()\n",
    "print(summary_stats)"
   ]
  },
  {
   "cell_type": "code",
   "execution_count": 10,
   "id": "3ce2a708",
   "metadata": {},
   "outputs": [
    {
     "name": "stdout",
     "output_type": "stream",
     "text": [
      "Number of Outliers:\n",
      "Order ID: 3720\n",
      "Product_ean: 3458\n",
      "Quantity Ordered: 1154\n",
      "Price Each: 232\n",
      "Cost price: 0\n",
      "turnover: 6\n",
      "margin: 6\n"
     ]
    }
   ],
   "source": [
    "# Select numerical columns\n",
    "outlier_columns= sales_data.select_dtypes(include='number').columns\n",
    "# Create a dictionary to store the number of outliers for each column\n",
    "outlier_counts = {}\n",
    "\n",
    "# Calculate the upper and lower bounds for each column\n",
    "for column in outlier_columns:\n",
    "    lower_bound = sales_data[column].quantile(0.01)\n",
    "    upper_bound = sales_data[column].quantile(0.99)\n",
    "    \n",
    "    # Find outliers in the column\n",
    "    outliers = sales_data[column][(sales_data[column] < lower_bound) | (sales_data[column] > upper_bound)]\n",
    "    \n",
    "    # Count the number of outliers\n",
    "    outlier_count = len(outliers)\n",
    "    \n",
    "    # Store the number of outliers in the dictionary\n",
    "    outlier_counts[column] = outlier_count\n",
    "\n",
    "# Print the table with the number of outliers in each column\n",
    "print(\"Number of Outliers:\")\n",
    "for column, count in outlier_counts.items():\n",
    "    print(f\"{column}: {count}\")\n",
    "    "
   ]
  },
  {
   "cell_type": "code",
   "execution_count": 11,
   "id": "be257774",
   "metadata": {},
   "outputs": [
    {
     "name": "stdout",
     "output_type": "stream",
     "text": [
      "          Price Each     Cost price\n",
      "count  185949.000000  185949.000000\n",
      "mean      183.806998      69.668947\n",
      "std       332.560027     109.424372\n",
      "min         0.000000       1.495000\n",
      "25%        11.950000       5.975000\n",
      "50%        14.950000       7.475000\n",
      "75%       150.000000      97.500000\n",
      "max      1700.000000     561.000000\n",
      "          Price Each     Cost price\n",
      "count  185949.000000  185949.000000\n",
      "mean      183.806998      69.668947\n",
      "std       332.560027     109.424372\n",
      "min         0.000000       1.495000\n",
      "25%        11.950000       5.975000\n",
      "50%        14.950000       7.475000\n",
      "75%       150.000000      97.500000\n",
      "max      1700.000000     561.000000\n"
     ]
    }
   ],
   "source": [
    "# Step 2: Data Preprocessing - Treat Outliers with Capping\n",
    "\n",
    "# Identify the columns with outliers\n",
    "outlier_columns = ['Order ID', 'Product_ean','Quantity Ordered','turnover','margin']\n",
    "\n",
    "# Calculate the upper and lower bounds for each column\n",
    "for column in outlier_columns:\n",
    "    lower_bound = sales_data[column].quantile(0.01)\n",
    "    upper_bound = sales_data[column].quantile(0.99)\n",
    "    \n",
    "    # Replace outliers with the respective bounds\n",
    "    sales_data[column] = sales_data[column].clip(lower=lower_bound, upper=upper_bound,inplace=True)\n",
    "\n",
    "# Step 3: Exploratory Data Analysis (EDA)\n",
    "# Calculate summary statistics\n",
    "summary_stats = sales_data.describe()\n",
    "print(summary_stats)\n",
    "updated_summary_stats = sales_data.describe()\n",
    "print(updated_summary_stats)"
   ]
  },
  {
   "cell_type": "code",
   "execution_count": null,
   "id": "2054b4db",
   "metadata": {},
   "outputs": [],
   "source": [
    "import matplotlib.pyplot as plt\n",
    "import seaborn as sns\n",
    "\n",
    "# Step 2: Data Preprocessing - Visualize Outliers\n",
    "\n",
    "# Identify the columns with outliers\n",
    "outlier_columns = ['Order ID', 'Product_ean','Quantity Ordered','turnover','margin']\n",
    "\n",
    "# Create subplots for box plots\n",
    "fig, axes = plt.subplots(nrows=1, ncols=len(outlier_columns), figsize=(12, 6))\n",
    "\n",
    "# Generate box plots for each column\n",
    "for i, column in enumerate(outlier_columns):\n",
    "    sns.boxplot(data=sales_data[column], ax=axes[i])\n",
    "    axes[i].set_title(column)\n",
    "\n",
    "plt.tight_layout()\n",
    "plt.show()\n"
   ]
  },
  {
   "cell_type": "code",
   "execution_count": null,
   "id": "e8dd5c21",
   "metadata": {},
   "outputs": [],
   "source": [
    "# Step 4: Visualizations\n",
    "# Generate visualizations to answer 10 questions\n",
    "\n",
    "# Question 1: What is the distribution of the quantity ordered?\n",
    "sns.histplot(sales_data['Quantity Ordered'])\n",
    "plt.title('Distribution of Quantity Ordered')\n",
    "plt.show()"
   ]
  },
  {
   "cell_type": "code",
   "execution_count": null,
   "id": "e9f905cc",
   "metadata": {},
   "outputs": [],
   "source": [
    "# Question 2: What is the distribution of prices for each product category?\n",
    "sns.boxplot(x='Category', y='Price Each', data=sales_data)\n",
    "plt.title('Distribution of Prices by Category')\n",
    "plt.show()"
   ]
  },
  {
   "cell_type": "code",
   "execution_count": null,
   "id": "0f7b2367",
   "metadata": {},
   "outputs": [],
   "source": []
  }
 ],
 "metadata": {
  "kernelspec": {
   "display_name": "Python 3 (ipykernel)",
   "language": "python",
   "name": "python3"
  },
  "language_info": {
   "codemirror_mode": {
    "name": "ipython",
    "version": 3
   },
   "file_extension": ".py",
   "mimetype": "text/x-python",
   "name": "python",
   "nbconvert_exporter": "python",
   "pygments_lexer": "ipython3",
   "version": "3.11.3"
  }
 },
 "nbformat": 4,
 "nbformat_minor": 5
}
